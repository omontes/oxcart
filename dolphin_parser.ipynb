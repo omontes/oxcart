{
 "cells": [
  {
   "cell_type": "markdown",
   "id": "a385e28d",
   "metadata": {},
   "source": [
    "## Dolphin PDF Parser Philatelic RAG Ready"
   ]
  },
  {
   "cell_type": "code",
   "execution_count": null,
   "id": "fe8825c8",
   "metadata": {},
   "outputs": [],
   "source": [
    "from IPython.display import Markdown, display, Image as IPImage\n",
    "from pathlib import Path\n",
    "import re\n",
    "import os\n",
    "import torch\n",
    "\n",
    "from demo_page import *\n",
    "\n",
    "# Import the refactored modules\n",
    "from philatelic_patterns import  *\n",
    "\n",
    "from philatelic_metadata_tests import *\n",
    "\n",
    "# Import the new dolphin transformer module\n",
    "from dolphin_transformer import transform_dolphin_to_oxcart_preserving_labels\n",
    "\n",
    "from typing import Dict, Any, Optional, List\n",
    "import json\n",
    "from datetime import datetime"
   ]
  },
  {
   "cell_type": "markdown",
   "id": "3b82e5d0",
   "metadata": {},
   "source": [
    "### Utils Functions"
   ]
  },
  {
   "cell_type": "code",
   "execution_count": null,
   "id": "cfa8d60b",
   "metadata": {},
   "outputs": [],
   "source": [
    "def show_markdown(ox: dict):\n",
    "    md = ox.get(\"markdown\",\"\").strip()\n",
    "    if not md:\n",
    "        print(\"No hay markdown.\")\n",
    "        return\n",
    "    \n",
    "    # Get the base directory and figures directory\n",
    "    base_dir = Path(os.getcwd())\n",
    "    figures_dir = base_dir / \"results\" / \"markdown\" / \"figures\"\n",
    "    \n",
    "    # Split markdown into parts and process images separately\n",
    "    parts = re.split(r'(!\\[Figure\\]\\([^)]+\\))', md)\n",
    "    \n",
    "    for part in parts:\n",
    "        if part.startswith('![Figure]('):\n",
    "            # Extract image path\n",
    "            img_match = re.match(r'!\\[Figure\\]\\(([^)]+)\\)', part)\n",
    "            if img_match:\n",
    "                img_path = img_match.group(1)\n",
    "                \n",
    "                # Handle relative path starting with \"figures/\"\n",
    "                if img_path.startswith(\"figures/\"):\n",
    "                    abs_path = figures_dir / img_path[8:]  # Remove \"figures/\" prefix\n",
    "                else:\n",
    "                    abs_path = figures_dir / img_path\n",
    "                \n",
    "                if abs_path.exists():\n",
    "                    # Display image directly using IPython.display.Image\n",
    "                    display(IPImage(filename=str(abs_path), width=400))\n",
    "                else:\n",
    "                    print(f\"❌ Imagen no encontrada: {abs_path}\")\n",
    "        else:\n",
    "            # Display regular markdown content\n",
    "            if part.strip():\n",
    "                display(Markdown(part))\n",
    "\n",
    "def show_markdown_with_embedded_images(ox: dict):\n",
    "    \"\"\"Versión alternativa que convierte imágenes a base64 para embedding\"\"\"\n",
    "    import base64\n",
    "    \n",
    "    md = ox.get(\"markdown\",\"\").strip()\n",
    "    if not md:\n",
    "        print(\"No hay markdown.\")\n",
    "        return\n",
    "    \n",
    "    base_dir = Path(os.getcwd())\n",
    "    figures_dir = base_dir / \"results\" / \"markdown\" / \"figures\"\n",
    "    \n",
    "    def embed_image(match):\n",
    "        img_path = match.group(1)\n",
    "        \n",
    "        if img_path.startswith(\"figures/\"):\n",
    "            abs_path = figures_dir / img_path[8:]\n",
    "        else:\n",
    "            abs_path = figures_dir / img_path\n",
    "        \n",
    "        if abs_path.exists():\n",
    "            try:\n",
    "                with open(abs_path, \"rb\") as img_file:\n",
    "                    img_data = base64.b64encode(img_file.read()).decode()\n",
    "                    img_ext = abs_path.suffix.lower().replace('.', '')\n",
    "                    if img_ext == 'jpg':\n",
    "                        img_ext = 'jpeg'\n",
    "                    return f\"![Figure](data:image/{img_ext};base64,{img_data})\"\n",
    "            except Exception as e:\n",
    "                return f\"![Imagen error: {e}]({img_path})\"\n",
    "        else:\n",
    "            return f\"![Imagen no encontrada]({img_path})\"\n",
    "    \n",
    "    # Replace image paths with base64 embedded images\n",
    "    md_with_embedded = re.sub(r'!\\[Figure\\]\\(([^)]+)\\)', embed_image, md)\n",
    "    \n",
    "    display(Markdown(md_with_embedded))"
   ]
  },
  {
   "cell_type": "markdown",
   "id": "d2a1e4e8",
   "metadata": {},
   "source": [
    "### First Step --  Get the PDF Parsed from Dolphin"
   ]
  },
  {
   "cell_type": "code",
   "execution_count": null,
   "id": "305cebc3",
   "metadata": {},
   "outputs": [],
   "source": [
    "print(torch.cuda.is_available())  # Debe dar True\n",
    "print(torch.version.cuda)         # Ej: '12.1'\n",
    "print(torch.cuda.get_device_name(0))  # Debe decir 'NVIDIA GeForce RTX 3060 Laptop GPU'"
   ]
  },
  {
   "cell_type": "code",
   "execution_count": null,
   "id": "e6faf81d",
   "metadata": {},
   "outputs": [],
   "source": [
    "# pdf file name\n",
    "pdf_file_name = \"OXCART30\""
   ]
  },
  {
   "cell_type": "code",
   "execution_count": null,
   "id": "56489bbc",
   "metadata": {},
   "outputs": [],
   "source": [
    "\n",
    "# Parámetros equivalentes a los del comando\n",
    "config_path = \"./config/Dolphin.yaml\"\n",
    "input_path = \"./pdfs/\" + pdf_file_name + \".pdf\"\n",
    "save_dir = \"./results\"\n",
    "max_batch_size = 4  # valor por defecto\n",
    "\n",
    "# 1. Cargar config y modelo\n",
    "config = OmegaConf.load(config_path)\n",
    "#config.model.swin_args.img_size = [768, 768]\n",
    "model = DOLPHIN(config)\n",
    "\n",
    "\n",
    "\n",
    "# 3) Si la clase DOLPHIN no expone .to(), forzamos FP16 + no_grad desde fuera envolviendo su método .chat\n",
    "# orig_chat = model.chat\n",
    "# def chat_fp16(*args, **kwargs):\n",
    "#     with torch.no_grad(), torch.cuda.amp.autocast(dtype=torch.float16):\n",
    "#         return orig_chat(*args, **kwargs)\n",
    "# model.chat = chat_fp16  # monkey-patch\n",
    "\n",
    "# 2. Preparar carpeta de salida\n",
    "setup_output_dirs(save_dir)\n",
    "\n",
    "# 3. Procesar documento PDF\n",
    "json_path, recognition_results = process_document(\n",
    "    document_path=input_path,\n",
    "    model=model,\n",
    "    save_dir=save_dir,\n",
    "    max_batch_size=max_batch_size\n",
    ")\n",
    "\n",
    "print(f\"✅ Resultados guardados en: {json_path}\")\n",
    "print(f\"📄 Total elementos: {sum(len(p['elements']) for p in recognition_results)}\")"
   ]
  },
  {
   "cell_type": "markdown",
   "id": "6f8313ac",
   "metadata": {},
   "source": [
    "### View the Dolphin Original PDF Parsed in MarkDown"
   ]
  },
  {
   "cell_type": "code",
   "execution_count": null,
   "id": "c7faf8b5",
   "metadata": {},
   "outputs": [],
   "source": [
    "md_file = Path(f\"./results/markdown/{pdf_file_name}.md\")  # pon aquí el que quieras abrir\n",
    "\n",
    "# Leer el markdown\n",
    "md_text = md_file.read_text(encoding=\"utf-8\")\n",
    "\n",
    "# Mostrar como markdown en Jupyter\n",
    "display(Markdown(md_text))"
   ]
  },
  {
   "cell_type": "markdown",
   "id": "e1d7257e",
   "metadata": {},
   "source": [
    "### Getting the Chunks of the PDF -- Philatelic RAG Ready Chunks"
   ]
  },
  {
   "cell_type": "code",
   "execution_count": null,
   "id": "d7df783d",
   "metadata": {},
   "outputs": [],
   "source": [
    "ox = transform_dolphin_to_oxcart_preserving_labels(\n",
    "    recognition_results,\n",
    "    doc_id=pdf_file_name,\n",
    "    # page_dims_provider=lambda p: Image.open(f\"./results/pages/page_{p:03d}.png\").size,\n",
    "    para_max_chars=1000,\n",
    "    table_row_block_size=None  # Disabled to preserve table integrity and quality\n",
    ")"
   ]
  },
  {
   "cell_type": "code",
   "execution_count": null,
   "id": "b2c42866",
   "metadata": {},
   "outputs": [],
   "source": [
    "# Enrich with philatelic metadata using the imported function\n",
    "ox = enrich_all_chunks_advanced_philatelic(ox)\n",
    "\n",
    "# Save using the imported function\n",
    "save_json(ox, f\"./results/parsed_jsons/{pdf_file_name}_philatelic.json\")"
   ]
  },
  {
   "cell_type": "code",
   "execution_count": null,
   "id": "5d5f43ac",
   "metadata": {},
   "outputs": [],
   "source": [
    "#ox['chunks'][38]"
   ]
  },
  {
   "cell_type": "code",
   "execution_count": null,
   "id": "42a783f2",
   "metadata": {},
   "outputs": [],
   "source": [
    "# Show the Markdown of the PDF proccesed with Philately Logic for RAG\n",
    "show_markdown_with_embedded_images(ox)"
   ]
  },
  {
   "cell_type": "markdown",
   "id": "05ubjo0aylf9",
   "metadata": {},
   "source": [
    "#### Verificación de Entidades de Filatelia\n",
    "\n",
    "Verificar que los chunks fueron enriquecidos correctamente con entidades filatélicas"
   ]
  },
  {
   "cell_type": "code",
   "execution_count": null,
   "id": "i22w0peddo",
   "metadata": {},
   "outputs": [],
   "source": [
    "# Verify philatelic entities using the imported function\n",
    "philatelic_chunks = show_philatelic_entities(ox, max_examples=8)"
   ]
  },
  {
   "cell_type": "code",
   "execution_count": null,
   "id": "1fqa4zwwmtz",
   "metadata": {},
   "outputs": [],
   "source": [
    "# Detailed analysis using the imported function\n",
    "analyze_philatelic_entities(ox)"
   ]
  },
  {
   "cell_type": "code",
   "execution_count": null,
   "id": "l4qs3pnv1y7",
   "metadata": {},
   "outputs": [],
   "source": [
    "# Show catalog examples using the imported function\n",
    "catalog_examples = show_catalog_examples_by_system(ox)"
   ]
  },
  {
   "cell_type": "markdown",
   "id": "p00un1h5xbl",
   "metadata": {},
   "source": [
    "#### Comparison: Original Dolphin vs Philatelic Enhanced"
   ]
  },
  {
   "cell_type": "code",
   "execution_count": null,
   "id": "59945786",
   "metadata": {},
   "outputs": [],
   "source": [
    "# Import the quality control system\n",
    "from dolphin_quality_control import DolphinQualityControl"
   ]
  },
  {
   "cell_type": "code",
   "execution_count": null,
   "id": "7r2c7ey5pt7",
   "metadata": {},
   "outputs": [],
   "source": [
    "# Initialize quality control\n",
    "qc = DolphinQualityControl()\n",
    "\n",
    "original_json_path = Path(f\"./results/recognition_json/{pdf_file_name}.json\")\n",
    "with open(original_json_path, 'r', encoding='utf-8') as f:\n",
    "    original_data = json.load(f)\n",
    "    \n",
    "# Compare original vs philatelic versions\n",
    "comparison_results = qc.compare_versions_generic(\n",
    "    original_data=recognition_results,\n",
    "    philatelic_data=ox,\n",
    "    doc_id=pdf_file_name\n",
    ")\n",
    "\n",
    "print(f\"📊 Comparison Results for {pdf_file_name}:\")\n",
    "print(f\"Original elements: {comparison_results['original']['total_elements']}\")\n",
    "print(f\"Philatelic chunks: {comparison_results['philatelic']['total_chunks']}\")\n",
    "print(f\"Oversized chunks: {len(comparison_results['philatelic']['oversized_chunks'])}\")\n",
    "\n",
    "# Show improvement summary\n",
    "summary = comparison_results['comparison_summary']\n",
    "print(f\"\\n📈 Quality Metrics:\")\n",
    "print(f\"Element to chunk ratio: {summary['element_to_chunk_ratio']:.2f}\")\n",
    "print(f\"Average text length: Original={summary['text_length_stats']['original_avg']:.0f}, Philatelic={summary['text_length_stats']['philatelic_avg']:.0f}\")\n",
    "print(f\"Max text length: Original={summary['text_length_stats']['original_max']}, Philatelic={summary['text_length_stats']['philatelic_max']}\")\n",
    "\n",
    "# Show any oversized chunks\n",
    "if comparison_results['philatelic']['oversized_chunks']:\n",
    "    print(f\"\\n⚠️ Oversized chunks detected:\")\n",
    "    for chunk in comparison_results['philatelic']['oversized_chunks'][:5]:  # Show first 5\n",
    "        print(f\"  - {chunk['chunk_id']} ({chunk['chunk_type']}): {chunk['text_length']} chars\")\n",
    "else:\n",
    "    print(f\"\\n✅ No oversized chunks detected\")"
   ]
  },
  {
   "cell_type": "code",
   "execution_count": null,
   "id": "zyr10qn3lnd",
   "metadata": {},
   "outputs": [],
   "source": [
    "# Generate detailed comparison report\n",
    "report = qc.generate_detailed_report_generic(\n",
    "    original_data=recognition_results,\n",
    "    philatelic_data=ox,\n",
    "    doc_id=pdf_file_name\n",
    ")\n",
    "\n",
    "# Display the report\n",
    "from IPython.display import Markdown\n",
    "display(Markdown(report))"
   ]
  }
 ],
 "metadata": {
  "kernelspec": {
   "display_name": ".venv-clean (3.10.11)",
   "language": "python",
   "name": "python3"
  },
  "language_info": {
   "codemirror_mode": {
    "name": "ipython",
    "version": 3
   },
   "file_extension": ".py",
   "mimetype": "text/x-python",
   "name": "python",
   "nbconvert_exporter": "python",
   "pygments_lexer": "ipython3",
   "version": "3.10.11"
  }
 },
 "nbformat": 4,
 "nbformat_minor": 5
}
