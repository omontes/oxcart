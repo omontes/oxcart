{
 "cells": [
  {
   "cell_type": "markdown",
   "metadata": {},
   "source": [
    "# Dolphin Gradio App\n",
    "Interactive web interface for Dolphin document parsing"
   ]
  },
  {
   "cell_type": "code",
   "execution_count": null,
   "metadata": {},
   "outputs": [],
   "source": [
    "#!pip3.10 install hf_xet"
   ]
  },
  {
   "cell_type": "code",
   "execution_count": null,
   "metadata": {},
   "outputs": [],
   "source": [
    "import gradio as gr\n",
    "import os\n",
    "from PIL import Image\n",
    "import json\n",
    "import torch\n",
    "from transformers import Qwen2VLForConditionalGeneration, AutoTokenizer, AutoProcessor\n",
    "import warnings\n",
    "warnings.filterwarnings(\"ignore\")"
   ]
  },
  {
   "cell_type": "code",
   "execution_count": null,
   "metadata": {},
   "outputs": [],
   "source": [
    "# Initialize Qwen2.5-VL model\n",
    "device = \"cuda\" if torch.cuda.is_available() else \"cpu\"\n",
    "print(f\"Using device: {device}\")\n",
    "\n",
    "# Initialize variables\n",
    "model = None\n",
    "processor = None\n",
    "\n",
    "try:\n",
    "    # Load Qwen2.5-VL-3B-Instruct model with simpler configuration\n",
    "    model = Qwen2VLForConditionalGeneration.from_pretrained(\n",
    "        \"Qwen/Qwen2.5-VL-3B-Instruct\", \n",
    "        torch_dtype=\"auto\",\n",
    "        device_map=\"auto\",\n",
    "        trust_remote_code=True\n",
    "    )\n",
    "    processor = AutoProcessor.from_pretrained(\n",
    "        \"Qwen/Qwen2.5-VL-3B-Instruct\",\n",
    "        trust_remote_code=True\n",
    "    )\n",
    "    \n",
    "    print(f\"Gradio version: {gr.__version__}\")\n",
    "    print(\"✅ Qwen2.5-VL-3B-Instruct model loaded successfully!\")\n",
    "    \n",
    "except Exception as e:\n",
    "    print(f\"❌ Error loading model: {e}\")\n",
    "    print(\"Error details:\", str(e))\n",
    "    # Set to None explicitly if loading fails\n",
    "    model = None\n",
    "    processor = None"
   ]
  },
  {
   "cell_type": "code",
   "execution_count": null,
   "metadata": {},
   "outputs": [],
   "source": [
    "def process_document(image):\n",
    "    \"\"\"\n",
    "    Process document image with Qwen2.5-VL\n",
    "    \"\"\"\n",
    "    if image is None:\n",
    "        return \"Please upload an image\"\n",
    "    \n",
    "    # Check if model and processor are loaded\n",
    "    if model is None or processor is None:\n",
    "        return \"❌ Model or processor not loaded. Please check the model initialization above.\"\n",
    "    \n",
    "    try:\n",
    "        # Simple approach without qwen_vl_utils\n",
    "        # Convert PIL image to format expected by processor\n",
    "        messages = [\n",
    "            {\n",
    "                \"role\": \"user\",\n",
    "                \"content\": [\n",
    "                    {\"type\": \"image\", \"image\": image},\n",
    "                    {\"type\": \"text\", \"text\": \"Analiza esta imagen de documento. Describe qué ves, extrae todo el texto que puedas leer, identifica tablas, fórmulas, diagramas o cualquier elemento estructural. Proporciona una descripción detallada del contenido.\"}\n",
    "                ]\n",
    "            }\n",
    "        ]\n",
    "        \n",
    "        # Apply chat template\n",
    "        text = processor.apply_chat_template(messages, tokenize=False, add_generation_prompt=True)\n",
    "        \n",
    "        # Process inputs\n",
    "        inputs = processor(text=text, images=[image], return_tensors=\"pt\")\n",
    "        inputs = inputs.to(device)\n",
    "        \n",
    "        # Generate response\n",
    "        with torch.no_grad():\n",
    "            generated_ids = model.generate(\n",
    "                **inputs,\n",
    "                max_new_tokens=512,\n",
    "                do_sample=False,\n",
    "                temperature=0.7,\n",
    "                pad_token_id=processor.tokenizer.eos_token_id\n",
    "            )\n",
    "        \n",
    "        # Decode response\n",
    "        generated_ids_trimmed = [\n",
    "            out_ids[len(in_ids):] for in_ids, out_ids in zip(inputs.input_ids, generated_ids)\n",
    "        ]\n",
    "        \n",
    "        output_text = processor.batch_decode(\n",
    "            generated_ids_trimmed, \n",
    "            skip_special_tokens=True, \n",
    "            clean_up_tokenization_spaces=False\n",
    "        )\n",
    "        \n",
    "        return output_text[0] if output_text else \"No response generated\"\n",
    "        \n",
    "    except Exception as e:\n",
    "        return f\"Error processing image: {str(e)}\""
   ]
  },
  {
   "cell_type": "code",
   "execution_count": null,
   "metadata": {},
   "outputs": [],
   "source": [
    "# Create Gradio interface\n",
    "demo = gr.Interface(\n",
    "    fn=process_document,\n",
    "    inputs=gr.Image(type=\"pil\", label=\"Upload Document Image\"),\n",
    "    outputs=gr.Textbox(label=\"Qwen2.5-VL Analysis Results\", lines=10),\n",
    "    title=\"Qwen2.5-VL-3B-Instruct Document Analyzer\",\n",
    "    description=\"Upload a document image to analyze with Qwen2.5-VL-3B-Instruct. The model will extract text, identify structures, and provide detailed analysis.\",\n",
    "    examples=[\n",
    "        [\"demo/page_imgs/page_1.jpeg\"] if os.path.exists(\"demo/page_imgs/page_1.jpeg\") else None\n",
    "    ]\n",
    ")\n",
    "\n",
    "if __name__ == \"__main__\":\n",
    "    demo.launch(share=False)"
   ]
  }
 ],
 "metadata": {
  "kernelspec": {
   "display_name": "Python 3",
   "language": "python",
   "name": "python3"
  },
  "language_info": {
   "codemirror_mode": {
    "name": "ipython",
    "version": 3
   },
   "file_extension": ".py",
   "mimetype": "text/x-python",
   "name": "python",
   "nbconvert_exporter": "python",
   "pygments_lexer": "ipython3",
   "version": "3.10.6"
  }
 },
 "nbformat": 4,
 "nbformat_minor": 4
}
